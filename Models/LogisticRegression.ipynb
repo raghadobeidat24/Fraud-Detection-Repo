{
 "cells": [
  {
   "cell_type": "markdown",
   "id": "9f20644a",
   "metadata": {},
   "source": [
    "### Logistic Regression Model - Fraud Detection "
   ]
  },
  {
   "cell_type": "code",
   "execution_count": 92,
   "id": "37592253",
   "metadata": {},
   "outputs": [],
   "source": [
    "import pandas as pd\n",
    "\n",
    "df = pd.read_csv(\"fraud_eda.csv\")\n",
    "\n",
    "# Separating features by type\n",
    "categorical_cols = ['customer','age','gender','zipcodeOri',\n",
    "                    'merchant','zipMerchant','category',\n",
    "                    'time_of_day','gender_new']\n",
    "numeric_cols = ['step','amount','fraud','day','hour','Enterprise']"
   ]
  },
  {
   "cell_type": "code",
   "execution_count": 93,
   "id": "dd97a281",
   "metadata": {},
   "outputs": [],
   "source": [
    "# Cleaning categorical values\n",
    "for c in categorical_cols:\n",
    "    df[c] = df[c].astype(str).str.strip().str.replace(\"'\", \"\", regex=False)"
   ]
  },
  {
   "cell_type": "code",
   "execution_count": 94,
   "id": "1aec115e",
   "metadata": {},
   "outputs": [
    {
     "name": "stdout",
     "output_type": "stream",
     "text": [
      "Series([], dtype: int64)\n"
     ]
    }
   ],
   "source": [
    "# Count missing data per column\n",
    "missing_summary = df.isnull().sum()\n",
    "print(missing_summary[missing_summary > 0])"
   ]
  },
  {
   "cell_type": "code",
   "execution_count": 95,
   "id": "78138643",
   "metadata": {},
   "outputs": [
    {
     "data": {
      "text/plain": [
       "step             180\n",
       "customer        4112\n",
       "age                8\n",
       "gender             4\n",
       "zipcodeOri         1\n",
       "merchant          50\n",
       "zipMerchant        1\n",
       "category          15\n",
       "amount         23767\n",
       "fraud              2\n",
       "day                8\n",
       "hour              24\n",
       "time_of_day        8\n",
       "gender_new         3\n",
       "Enterprise         2\n",
       "dtype: int64"
      ]
     },
     "execution_count": 95,
     "metadata": {},
     "output_type": "execute_result"
    }
   ],
   "source": [
    "df.nunique()"
   ]
  },
  {
   "cell_type": "code",
   "execution_count": 96,
   "id": "3da76a18",
   "metadata": {},
   "outputs": [],
   "source": [
    "# Dropping unneeded columns\n",
    "df = df.drop(columns=['hour', 'day', 'step', 'time_of_day','zipMerchant', 'zipcodeOri', 'customer','gender'])"
   ]
  },
  {
   "cell_type": "code",
   "execution_count": 97,
   "id": "525fa90a",
   "metadata": {},
   "outputs": [
    {
     "data": {
      "text/plain": [
       "7"
      ]
     },
     "execution_count": 97,
     "metadata": {},
     "output_type": "execute_result"
    }
   ],
   "source": [
    "df.shape[1]"
   ]
  },
  {
   "cell_type": "markdown",
   "id": "502b6352",
   "metadata": {},
   "source": [
    "### One-hot encode 'age', 'Gender', 'merchant', 'category'"
   ]
  },
  {
   "cell_type": "code",
   "execution_count": 98,
   "id": "5475d069",
   "metadata": {},
   "outputs": [
    {
     "name": "stdout",
     "output_type": "stream",
     "text": [
      "      merchant           category  amount  fraud gender_new  Enterprise  \\\n",
      "0   M348934600  es_transportation    4.55      0          M           0   \n",
      "1   M348934600  es_transportation   39.68      0          M           0   \n",
      "2  M1823072687  es_transportation   26.89      0          F           0   \n",
      "3   M348934600  es_transportation   17.25      0          M           0   \n",
      "4   M348934600  es_transportation   35.72      0          M           0   \n",
      "\n",
      "   AGE_0  AGE_1  AGE_2  AGE_3  AGE_4  AGE_5  AGE_6  AGE_U  \n",
      "0  False  False  False  False   True  False  False  False  \n",
      "1  False  False   True  False  False  False  False  False  \n",
      "2  False  False  False  False   True  False  False  False  \n",
      "3  False  False  False   True  False  False  False  False  \n",
      "4  False  False  False  False  False   True  False  False  \n"
     ]
    }
   ],
   "source": [
    "# One-hot encode 'age'\n",
    "df = pd.get_dummies(df, columns=['age'], prefix='AGE')\n",
    "print(df.head())"
   ]
  },
  {
   "cell_type": "code",
   "execution_count": 99,
   "id": "eca52a0d",
   "metadata": {},
   "outputs": [],
   "source": [
    "df = pd.get_dummies(df, columns=['merchant'], prefix='MERCHANT')"
   ]
  },
  {
   "cell_type": "code",
   "execution_count": 100,
   "id": "fee1cef1",
   "metadata": {},
   "outputs": [],
   "source": [
    "df = pd.get_dummies(df, columns=['category'], prefix='MCC')"
   ]
  },
  {
   "cell_type": "code",
   "execution_count": 101,
   "id": "9304483c",
   "metadata": {},
   "outputs": [],
   "source": [
    "df = pd.get_dummies(df, columns=['gender_new'], prefix='GENDER')"
   ]
  },
  {
   "cell_type": "code",
   "execution_count": 102,
   "id": "916e6e0d",
   "metadata": {},
   "outputs": [],
   "source": [
    "#df = pd.get_dummies(df, columns=['time_of_day'], prefix='TOD')"
   ]
  },
  {
   "cell_type": "code",
   "execution_count": 103,
   "id": "fe7adf9c",
   "metadata": {},
   "outputs": [
    {
     "name": "stdout",
     "output_type": "stream",
     "text": [
      "   amount  fraud  Enterprise  AGE_0  AGE_1  AGE_2  AGE_3  AGE_4  AGE_5  AGE_6  \\\n",
      "0    4.55      0           0  False  False  False  False   True  False  False   \n",
      "1   39.68      0           0  False  False   True  False  False  False  False   \n",
      "2   26.89      0           0  False  False  False  False   True  False  False   \n",
      "3   17.25      0           0  False  False  False   True  False  False  False   \n",
      "4   35.72      0           0  False  False  False  False  False   True  False   \n",
      "\n",
      "   ...  MCC_es_leisure  MCC_es_otherservices  MCC_es_sportsandtoys  \\\n",
      "0  ...           False                 False                 False   \n",
      "1  ...           False                 False                 False   \n",
      "2  ...           False                 False                 False   \n",
      "3  ...           False                 False                 False   \n",
      "4  ...           False                 False                 False   \n",
      "\n",
      "   MCC_es_tech  MCC_es_transportation  MCC_es_travel  \\\n",
      "0        False                   True          False   \n",
      "1        False                   True          False   \n",
      "2        False                   True          False   \n",
      "3        False                   True          False   \n",
      "4        False                   True          False   \n",
      "\n",
      "   MCC_es_wellnessandbeauty  GENDER_F  GENDER_M  GENDER_U  \n",
      "0                     False     False      True     False  \n",
      "1                     False     False      True     False  \n",
      "2                     False      True     False     False  \n",
      "3                     False     False      True     False  \n",
      "4                     False     False      True     False  \n",
      "\n",
      "[5 rows x 79 columns]\n"
     ]
    }
   ],
   "source": [
    "print(df.head())"
   ]
  },
  {
   "cell_type": "markdown",
   "id": "7e8f6f64",
   "metadata": {},
   "source": [
    "### Scaling Numerical Variables (Amount)"
   ]
  },
  {
   "cell_type": "code",
   "execution_count": 104,
   "id": "e1853854",
   "metadata": {},
   "outputs": [],
   "source": [
    "from sklearn.preprocessing import StandardScaler\n",
    "\n",
    "scaler = StandardScaler()\n",
    "df['amount_scaled'] = scaler.fit_transform(df[['amount']])\n",
    "\n",
    "# dropping amount column\n",
    "df.drop(columns=['amount'], inplace=True)\n"
   ]
  },
  {
   "cell_type": "code",
   "execution_count": 105,
   "id": "effa1f10",
   "metadata": {},
   "outputs": [
    {
     "data": {
      "text/html": [
       "<div>\n",
       "<style scoped>\n",
       "    .dataframe tbody tr th:only-of-type {\n",
       "        vertical-align: middle;\n",
       "    }\n",
       "\n",
       "    .dataframe tbody tr th {\n",
       "        vertical-align: top;\n",
       "    }\n",
       "\n",
       "    .dataframe thead th {\n",
       "        text-align: right;\n",
       "    }\n",
       "</style>\n",
       "<table border=\"1\" class=\"dataframe\">\n",
       "  <thead>\n",
       "    <tr style=\"text-align: right;\">\n",
       "      <th></th>\n",
       "      <th>fraud</th>\n",
       "      <th>Enterprise</th>\n",
       "      <th>AGE_0</th>\n",
       "      <th>AGE_1</th>\n",
       "      <th>AGE_2</th>\n",
       "      <th>AGE_3</th>\n",
       "      <th>AGE_4</th>\n",
       "      <th>AGE_5</th>\n",
       "      <th>AGE_6</th>\n",
       "      <th>AGE_U</th>\n",
       "      <th>...</th>\n",
       "      <th>MCC_es_otherservices</th>\n",
       "      <th>MCC_es_sportsandtoys</th>\n",
       "      <th>MCC_es_tech</th>\n",
       "      <th>MCC_es_transportation</th>\n",
       "      <th>MCC_es_travel</th>\n",
       "      <th>MCC_es_wellnessandbeauty</th>\n",
       "      <th>GENDER_F</th>\n",
       "      <th>GENDER_M</th>\n",
       "      <th>GENDER_U</th>\n",
       "      <th>amount_scaled</th>\n",
       "    </tr>\n",
       "  </thead>\n",
       "  <tbody>\n",
       "    <tr>\n",
       "      <th>0</th>\n",
       "      <td>0</td>\n",
       "      <td>0</td>\n",
       "      <td>False</td>\n",
       "      <td>False</td>\n",
       "      <td>False</td>\n",
       "      <td>False</td>\n",
       "      <td>True</td>\n",
       "      <td>False</td>\n",
       "      <td>False</td>\n",
       "      <td>False</td>\n",
       "      <td>...</td>\n",
       "      <td>False</td>\n",
       "      <td>False</td>\n",
       "      <td>False</td>\n",
       "      <td>True</td>\n",
       "      <td>False</td>\n",
       "      <td>False</td>\n",
       "      <td>False</td>\n",
       "      <td>True</td>\n",
       "      <td>False</td>\n",
       "      <td>-0.299276</td>\n",
       "    </tr>\n",
       "    <tr>\n",
       "      <th>1</th>\n",
       "      <td>0</td>\n",
       "      <td>0</td>\n",
       "      <td>False</td>\n",
       "      <td>False</td>\n",
       "      <td>True</td>\n",
       "      <td>False</td>\n",
       "      <td>False</td>\n",
       "      <td>False</td>\n",
       "      <td>False</td>\n",
       "      <td>False</td>\n",
       "      <td>...</td>\n",
       "      <td>False</td>\n",
       "      <td>False</td>\n",
       "      <td>False</td>\n",
       "      <td>True</td>\n",
       "      <td>False</td>\n",
       "      <td>False</td>\n",
       "      <td>False</td>\n",
       "      <td>True</td>\n",
       "      <td>False</td>\n",
       "      <td>0.016067</td>\n",
       "    </tr>\n",
       "    <tr>\n",
       "      <th>2</th>\n",
       "      <td>0</td>\n",
       "      <td>0</td>\n",
       "      <td>False</td>\n",
       "      <td>False</td>\n",
       "      <td>False</td>\n",
       "      <td>False</td>\n",
       "      <td>True</td>\n",
       "      <td>False</td>\n",
       "      <td>False</td>\n",
       "      <td>False</td>\n",
       "      <td>...</td>\n",
       "      <td>False</td>\n",
       "      <td>False</td>\n",
       "      <td>False</td>\n",
       "      <td>True</td>\n",
       "      <td>False</td>\n",
       "      <td>False</td>\n",
       "      <td>True</td>\n",
       "      <td>False</td>\n",
       "      <td>False</td>\n",
       "      <td>-0.098742</td>\n",
       "    </tr>\n",
       "    <tr>\n",
       "      <th>3</th>\n",
       "      <td>0</td>\n",
       "      <td>0</td>\n",
       "      <td>False</td>\n",
       "      <td>False</td>\n",
       "      <td>False</td>\n",
       "      <td>True</td>\n",
       "      <td>False</td>\n",
       "      <td>False</td>\n",
       "      <td>False</td>\n",
       "      <td>False</td>\n",
       "      <td>...</td>\n",
       "      <td>False</td>\n",
       "      <td>False</td>\n",
       "      <td>False</td>\n",
       "      <td>True</td>\n",
       "      <td>False</td>\n",
       "      <td>False</td>\n",
       "      <td>False</td>\n",
       "      <td>True</td>\n",
       "      <td>False</td>\n",
       "      <td>-0.185275</td>\n",
       "    </tr>\n",
       "    <tr>\n",
       "      <th>4</th>\n",
       "      <td>0</td>\n",
       "      <td>0</td>\n",
       "      <td>False</td>\n",
       "      <td>False</td>\n",
       "      <td>False</td>\n",
       "      <td>False</td>\n",
       "      <td>False</td>\n",
       "      <td>True</td>\n",
       "      <td>False</td>\n",
       "      <td>False</td>\n",
       "      <td>...</td>\n",
       "      <td>False</td>\n",
       "      <td>False</td>\n",
       "      <td>False</td>\n",
       "      <td>True</td>\n",
       "      <td>False</td>\n",
       "      <td>False</td>\n",
       "      <td>False</td>\n",
       "      <td>True</td>\n",
       "      <td>False</td>\n",
       "      <td>-0.019480</td>\n",
       "    </tr>\n",
       "  </tbody>\n",
       "</table>\n",
       "<p>5 rows × 79 columns</p>\n",
       "</div>"
      ],
      "text/plain": [
       "   fraud  Enterprise  AGE_0  AGE_1  AGE_2  AGE_3  AGE_4  AGE_5  AGE_6  AGE_U  \\\n",
       "0      0           0  False  False  False  False   True  False  False  False   \n",
       "1      0           0  False  False   True  False  False  False  False  False   \n",
       "2      0           0  False  False  False  False   True  False  False  False   \n",
       "3      0           0  False  False  False   True  False  False  False  False   \n",
       "4      0           0  False  False  False  False  False   True  False  False   \n",
       "\n",
       "   ...  MCC_es_otherservices  MCC_es_sportsandtoys  MCC_es_tech  \\\n",
       "0  ...                 False                 False        False   \n",
       "1  ...                 False                 False        False   \n",
       "2  ...                 False                 False        False   \n",
       "3  ...                 False                 False        False   \n",
       "4  ...                 False                 False        False   \n",
       "\n",
       "   MCC_es_transportation  MCC_es_travel  MCC_es_wellnessandbeauty  GENDER_F  \\\n",
       "0                   True          False                     False     False   \n",
       "1                   True          False                     False     False   \n",
       "2                   True          False                     False      True   \n",
       "3                   True          False                     False     False   \n",
       "4                   True          False                     False     False   \n",
       "\n",
       "   GENDER_M  GENDER_U  amount_scaled  \n",
       "0      True     False      -0.299276  \n",
       "1      True     False       0.016067  \n",
       "2     False     False      -0.098742  \n",
       "3      True     False      -0.185275  \n",
       "4      True     False      -0.019480  \n",
       "\n",
       "[5 rows x 79 columns]"
      ]
     },
     "execution_count": 105,
     "metadata": {},
     "output_type": "execute_result"
    }
   ],
   "source": [
    "df.head()"
   ]
  },
  {
   "cell_type": "markdown",
   "id": "90efa852",
   "metadata": {},
   "source": [
    "### Heatmap - Correlation Matrix"
   ]
  },
  {
   "cell_type": "code",
   "execution_count": 106,
   "id": "6f405c8c",
   "metadata": {},
   "outputs": [
    {
     "name": "stdout",
     "output_type": "stream",
     "text": [
      "fraud            1.000000\n",
      "amount_scaled    0.489967\n",
      "Enterprise      -0.002512\n",
      "Name: fraud, dtype: float64\n"
     ]
    },
    {
     "data": {
      "image/png": "[encoded data removed]",
      "text/plain": [
       "<Figure size 1200x800 with 2 Axes>"
      ]
     },
     "metadata": {},
     "output_type": "display_data"
    }
   ],
   "source": [
    "import matplotlib.pyplot as plt\n",
    "import seaborn as sns\n",
    "\n",
    "# only numerical columns\n",
    "num_df = df.select_dtypes(include=['int64','float64','int32'])\n",
    "\n",
    "# Correlation matrix\n",
    "corr = num_df.corr()\n",
    "print(corr['fraud'].sort_values(ascending=False))\n",
    "\n",
    "# Plotting heatmap\n",
    "plt.figure(figsize=(12,8))\n",
    "sns.heatmap(corr, annot=False, cmap='coolwarm', center=0)\n",
    "plt.title(\"Correlation Matrix - Numerical Features\")\n",
    "plt.savefig(\"Cor.png\", dpi=300, bbox_inches=\"tight\")\n",
    "\n",
    "plt.show()"
   ]
  },
  {
   "cell_type": "code",
   "execution_count": 107,
   "id": "028011b7",
   "metadata": {},
   "outputs": [
    {
     "name": "stdout",
     "output_type": "stream",
     "text": [
      "fraud                    1.000000\n",
      "amount_scaled            0.489967\n",
      "MERCHANT_M980657600      0.409547\n",
      "MCC_es_sportsandtoys     0.363631\n",
      "MERCHANT_M480139044      0.319556\n",
      "                           ...   \n",
      "MCC_es_food             -0.023793\n",
      "GENDER_M                -0.025172\n",
      "MERCHANT_M348934600     -0.080429\n",
      "MERCHANT_M1823072687    -0.111596\n",
      "MCC_es_transportation   -0.262973\n",
      "Name: fraud, Length: 79, dtype: float64\n"
     ]
    }
   ],
   "source": [
    "corr_with_target = df.corr()['fraud'].sort_values(ascending=False)\n",
    "print(corr_with_target)"
   ]
  },
  {
   "cell_type": "code",
   "execution_count": 108,
   "id": "e6e5e9a9",
   "metadata": {},
   "outputs": [
    {
     "name": "stdout",
     "output_type": "stream",
     "text": [
      "fraud\n",
      "0    587443\n",
      "1      7200\n",
      "Name: count, dtype: int64\n"
     ]
    }
   ],
   "source": [
    "fraud_counts = df['fraud'].value_counts()\n",
    "print(fraud_counts)"
   ]
  },
  {
   "cell_type": "markdown",
   "id": "f51a96f4",
   "metadata": {},
   "source": [
    "### Splitting features & target  - Splitting Data Train - Test"
   ]
  },
  {
   "cell_type": "code",
   "execution_count": 109,
   "id": "ebf3fed1",
   "metadata": {},
   "outputs": [],
   "source": [
    "from sklearn.model_selection import train_test_split\n",
    "\n",
    "X = df.drop(columns=['fraud'])\n",
    "y = df['fraud']\n",
    "\n",
    "X_train, X_test, y_train, y_test = train_test_split(X, y, test_size=0.3, random_state=42, stratify=y)"
   ]
  },
  {
   "cell_type": "code",
   "execution_count": 110,
   "id": "c69db5b5",
   "metadata": {},
   "outputs": [
    {
     "name": "stdout",
     "output_type": "stream",
     "text": [
      "Before SMOTE - Training set fraud counts:\n",
      " fraud\n",
      "0    411210\n",
      "1      5040\n",
      "Name: count, dtype: int64\n"
     ]
    }
   ],
   "source": [
    "print(\"Before SMOTE - Training set fraud counts:\\n\", y_train.value_counts())"
   ]
  },
  {
   "cell_type": "code",
   "execution_count": 111,
   "id": "5a3449fc",
   "metadata": {},
   "outputs": [
    {
     "data": {
      "image/png": "[encoded data removed]",
      "text/plain": [
       "<Figure size 640x480 with 1 Axes>"
      ]
     },
     "metadata": {},
     "output_type": "display_data"
    }
   ],
   "source": [
    "fraud_counts.plot(\n",
    "    kind='pie',\n",
    "    autopct='%1.2f%%',\n",
    "    startangle=90,\n",
    "    colors=['black', '#86bd24'],\n",
    "    labels=['Non-Fraud (0)', 'Fraud (1)'],\n",
    "    explode=(0, 0.1)  \n",
    ")\n",
    "\n",
    "plt.gca().set_ylabel(\"\")  \n",
    "for text in plt.gca().texts:\n",
    "    text.set_color(\"white\")\n",
    "plt.title(\"Fraud vs Non-Fraud Distribution\")\n",
    "plt.ylabel(\"\")  \n",
    "plt.savefig(\"Target Distribution.png\", dpi=300, bbox_inches=\"tight\")\n",
    "\n",
    "plt.show()\n"
   ]
  },
  {
   "cell_type": "markdown",
   "id": "4f76708a",
   "metadata": {},
   "source": [
    "### OverSampling - SMOTE"
   ]
  },
  {
   "cell_type": "code",
   "execution_count": 112,
   "id": "889d9101",
   "metadata": {},
   "outputs": [
    {
     "name": "stdout",
     "output_type": "stream",
     "text": [
      "After SMOTE - Training set fraud counts:\n",
      " fraud\n",
      "0    411210\n",
      "1    411210\n",
      "Name: count, dtype: int64\n"
     ]
    }
   ],
   "source": [
    "from imblearn.over_sampling import SMOTE\n",
    "\n",
    "smote = SMOTE(random_state=42)\n",
    "X_train_resampled, y_train_resampled = smote.fit_resample(X_train, y_train)\n",
    "\n",
    "print(\"After SMOTE - Training set fraud counts:\\n\", y_train_resampled.value_counts())"
   ]
  },
  {
   "cell_type": "code",
   "execution_count": 113,
   "id": "44d76b01",
   "metadata": {},
   "outputs": [
    {
     "data": {
      "image/png": "[encoded data removed]",
      "text/plain": [
       "<Figure size 640x480 with 1 Axes>"
      ]
     },
     "metadata": {},
     "output_type": "display_data"
    }
   ],
   "source": [
    "# Counting classes after SMOTE\n",
    "fraud_counts_resampled = pd.Series(y_train_resampled).value_counts()\n",
    "\n",
    "# pie chart\n",
    "fraud_counts_resampled.plot(\n",
    "    kind='pie',\n",
    "    autopct='%1.2f%%',\n",
    "    startangle=90,\n",
    "    colors=['black', '#86bd24'],\n",
    "    labels=['Non-Fraud (0)', 'Fraud (1)'],\n",
    "    explode=(0, 0.1)  # highlight fraud slice\n",
    ")\n",
    "\n",
    "plt.title(\"Fraud vs Non-Fraud Distribution (After SMOTE)\")\n",
    "plt.savefig(\"After SMOTE.png\", dpi=300, bbox_inches=\"tight\")\n",
    "plt.ylabel(\"\")  # removes default y-axis label\n",
    "plt.show()\n"
   ]
  },
  {
   "cell_type": "code",
   "execution_count": 114,
   "id": "3b479bd6",
   "metadata": {},
   "outputs": [
    {
     "data": {
      "text/plain": [
       "fraud\n",
       "0    176233\n",
       "1      2160\n",
       "Name: count, dtype: int64"
      ]
     },
     "execution_count": 114,
     "metadata": {},
     "output_type": "execute_result"
    }
   ],
   "source": [
    "y_test.value_counts()"
   ]
  },
  {
   "cell_type": "markdown",
   "id": "0105a697",
   "metadata": {},
   "source": [
    "### Logistic Regression"
   ]
  },
  {
   "cell_type": "code",
   "execution_count": 115,
   "id": "97c12967",
   "metadata": {},
   "outputs": [
    {
     "name": "stdout",
     "output_type": "stream",
     "text": [
      "Confusion Matrix:\n",
      " [[171788   4445]\n",
      " [    52   2108]]\n",
      "\n",
      "Classification Report:\n",
      "               precision    recall  f1-score   support\n",
      "\n",
      "           0      1.000     0.975     0.987    176233\n",
      "           1      0.322     0.976     0.484      2160\n",
      "\n",
      "    accuracy                          0.975    178393\n",
      "   macro avg      0.661     0.975     0.735    178393\n",
      "weighted avg      0.991     0.975     0.981    178393\n",
      "\n",
      "ROC-AUC: 0.9972905266827943\n"
     ]
    }
   ],
   "source": [
    "from sklearn.linear_model import LogisticRegression\n",
    "from sklearn.metrics import classification_report, confusion_matrix, roc_auc_score\n",
    "\n",
    "# Logistic Regression\n",
    "lr = LogisticRegression(\n",
    "    solver='liblinear',   \n",
    "    penalty='l2',\n",
    "    max_iter=2000\n",
    ")\n",
    "\n",
    "# Fitting data\n",
    "lr.fit(X_train_resampled, y_train_resampled)\n",
    "\n",
    "# Predictions on test set\n",
    "lr_pred = lr.predict(X_test)\n",
    "lr_prob = lr.predict_proba(X_test)[:, 1]\n",
    "\n",
    "# Evaluation\n",
    "print(\"Confusion Matrix:\\n\", confusion_matrix(y_test, lr_pred))\n",
    "print(\"\\nClassification Report:\\n\", classification_report(y_test, lr_pred, digits=3))\n",
    "print(\"ROC-AUC:\", roc_auc_score(y_test, lr_prob))\n"
   ]
  },
  {
   "cell_type": "code",
   "execution_count": 116,
   "id": "53b39120",
   "metadata": {},
   "outputs": [
    {
     "data": {
      "text/plain": [
       "['amount_scaler.joblib']"
      ]
     },
     "execution_count": 116,
     "metadata": {},
     "output_type": "execute_result"
    }
   ],
   "source": [
    "import joblib\n",
    "# Saveing model, scaler\n",
    "joblib.dump(lr, \"fraud_LR_model.joblib\")\n",
    "joblib.dump(scaler, \"amount_scaler.joblib\")"
   ]
  }
 ],
 "metadata": {
  "kernelspec": {
   "display_name": "Python 3",
   "language": "python",
   "name": "python3"
  },
  "language_info": {
   "codemirror_mode": {
    "name": "ipython",
    "version": 3
   },
   "file_extension": ".py",
   "mimetype": "text/x-python",
   "name": "python",
   "nbconvert_exporter": "python",
   "pygments_lexer": "ipython3",
   "version": "3.11.9"
  }
 },
 "nbformat": 4,
 "nbformat_minor": 5
}
